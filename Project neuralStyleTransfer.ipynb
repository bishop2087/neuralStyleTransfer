{
 "cells": [
  {
   "cell_type": "markdown",
   "id": "d8ea5e2d",
   "metadata": {},
   "source": [
    "# 0.Import Dependencies and Pretrained Model"
   ]
  },
  {
   "cell_type": "code",
   "execution_count": 1,
   "id": "2236639d",
   "metadata": {},
   "outputs": [],
   "source": [
    "import tensorflow_hub as hub\n",
    "import tensorflow as tf\n",
    "from matplotlib import pyplot as plt\n",
    "import numpy as np\n",
    "import cv2"
   ]
  },
  {
   "cell_type": "markdown",
   "id": "cd7b795e",
   "metadata": {},
   "source": [
    "# 1. preprocess Image and Load"
   ]
  },
  {
   "cell_type": "code",
   "execution_count": 2,
   "id": "a397926a",
   "metadata": {},
   "outputs": [],
   "source": [
    "model = hub.load('https://tfhub.dev/google/magenta/arbitrary-image-stylization-v1-256/2')"
   ]
  },
  {
   "cell_type": "code",
   "execution_count": 3,
   "id": "95b45966",
   "metadata": {},
   "outputs": [],
   "source": [
    "def load_image(img_path):\n",
    "    img = tf.io.read_file(img_path)\n",
    "    img = tf.image.decode_image(img, channels=3)\n",
    "    img = tf.image.convert_image_dtype(img, tf.float32)\n",
    "    img = img[tf.newaxis, :]\n",
    "    return img"
   ]
  },
  {
   "cell_type": "code",
   "execution_count": 4,
   "id": "b3af2d9a",
   "metadata": {},
   "outputs": [],
   "source": [
    "content_image1 = load_image('nor1.jpg')\n",
    "style_image1 = load_image('z1.jpg')\n",
    "style_image2 = load_image('z2.jpg')\n",
    "style_image3 = load_image('z3.jpg')\n",
    "style_image4 = load_image('z4.jpg')"
   ]
  },
  {
   "cell_type": "markdown",
   "id": "40362a82",
   "metadata": {},
   "source": [
    "# 2.tranform and store"
   ]
  },
  {
   "cell_type": "code",
   "execution_count": 5,
   "id": "de032cca",
   "metadata": {},
   "outputs": [],
   "source": [
    "#plt.imshow(np.squeeze(style_image))\n",
    "#plt.show()"
   ]
  },
  {
   "cell_type": "code",
   "execution_count": 6,
   "id": "e9d2b4aa",
   "metadata": {},
   "outputs": [],
   "source": [
    "#stylized_image1 = model(tf.constant(content_image1), tf.constant(style_image1))[0]\n",
    "#stylized_image2 = model(tf.constant(content_image1), tf.constant(style_image2))[0]\n",
    "#stylized_image3 = model(tf.constant(content_image1), tf.constant(style_image3))[0]\n",
    "stylized_image4 = model(tf.constant(content_image1), tf.constant(style_image4))[0]"
   ]
  },
  {
   "cell_type": "code",
   "execution_count": 7,
   "id": "4d63ac25",
   "metadata": {},
   "outputs": [
    {
     "data": {
      "text/plain": [
       "True"
      ]
     },
     "execution_count": 7,
     "metadata": {},
     "output_type": "execute_result"
    }
   ],
   "source": [
    "#cv2.imwrite('generated_img1.jpg', cv2.cvtColor(np.squeeze(stylized_image1)*255, cv2.COLOR_BGR2RGB))\n",
    "#cv2.imwrite('generated_img2.jpg', cv2.cvtColor(np.squeeze(stylized_image2)*255, cv2.COLOR_BGR2RGB))\n",
    "#cv2.imwrite('generated_img3.jpg', cv2.cvtColor(np.squeeze(stylized_image3)*255, cv2.COLOR_BGR2RGB))\n",
    "cv2.imwrite('generated_img4.jpg', cv2.cvtColor(np.squeeze(stylized_image4)*255, cv2.COLOR_BGR2RGB))"
   ]
  },
  {
   "cell_type": "code",
   "execution_count": null,
   "id": "2f7435f4",
   "metadata": {},
   "outputs": [],
   "source": []
  }
 ],
 "metadata": {
  "kernelspec": {
   "display_name": "Python 3 (ipykernel)",
   "language": "python",
   "name": "python3"
  },
  "language_info": {
   "codemirror_mode": {
    "name": "ipython",
    "version": 3
   },
   "file_extension": ".py",
   "mimetype": "text/x-python",
   "name": "python",
   "nbconvert_exporter": "python",
   "pygments_lexer": "ipython3",
   "version": "3.10.12"
  }
 },
 "nbformat": 4,
 "nbformat_minor": 5
}
